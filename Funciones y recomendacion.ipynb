{
 "cells": [
  {
   "cell_type": "markdown",
   "metadata": {},
   "source": [
    "Aqui comenzare con Las funciones."
   ]
  },
  {
   "cell_type": "code",
   "execution_count": 1,
   "metadata": {},
   "outputs": [],
   "source": [
    "import pandas as pd\n",
    "import numpy as np"
   ]
  },
  {
   "cell_type": "markdown",
   "metadata": {},
   "source": [
    "cargo los datos."
   ]
  },
  {
   "cell_type": "code",
   "execution_count": 2,
   "metadata": {},
   "outputs": [],
   "source": [
    "df_reviews = pd.read_csv('reviews.csv')"
   ]
  },
  {
   "cell_type": "code",
   "execution_count": 3,
   "metadata": {},
   "outputs": [],
   "source": [
    "df_items = pd.read_csv('items.csv')"
   ]
  },
  {
   "cell_type": "code",
   "execution_count": 4,
   "metadata": {},
   "outputs": [],
   "source": [
    "df_steam_games = pd.read_csv('steam_games.csv')"
   ]
  },
  {
   "cell_type": "markdown",
   "metadata": {},
   "source": [
    "Comenzamos con las funciones"
   ]
  },
  {
   "cell_type": "markdown",
   "metadata": {},
   "source": [
    "Primera función:"
   ]
  },
  {
   "cell_type": "code",
   "execution_count": 5,
   "metadata": {},
   "outputs": [],
   "source": [
    "def PlayTimeGenre(genre):\n",
    "    juegos_genero_steam = df_steam_games[df_steam_games['genres'].str.lower().str.contains(genre)]\n",
    "    juegos_genero_items = df_items[df_items['game_name'].isin(juegos_genero_steam['game_name'])]\n",
    "\n",
    "    df_combinado = pd.merge(juegos_genero_items, juegos_genero_steam[['game_name', 'release_date']], on='game_name')\n",
    "\n",
    "    playtime_por_año = df_combinado.groupby('release_date')['playtime_forever'].sum()\n",
    "\n",
    "    return print('el año de lanzamiento con más horas jugadas para el genero:',genre,'es:',playtime_por_año.idxmax())"
   ]
  },
  {
   "cell_type": "code",
   "execution_count": 6,
   "metadata": {},
   "outputs": [
    {
     "name": "stdout",
     "output_type": "stream",
     "text": [
      "el año de lanzamiento con más horas jugadas para el genero: action es: 2012\n"
     ]
    }
   ],
   "source": [
    "PlayTimeGenre('action')"
   ]
  },
  {
   "cell_type": "markdown",
   "metadata": {},
   "source": [
    "Segunda función:"
   ]
  },
  {
   "cell_type": "code",
   "execution_count": 7,
   "metadata": {},
   "outputs": [],
   "source": [
    "def UserForGenre(genre):\n",
    "    juegos_genero_steam = df_steam_games[df_steam_games['genres'].str.lower().str.contains(genre)]\n",
    "    juegos_genero_items = df_items[df_items['game_name'].isin(juegos_genero_steam['game_name'])]\n",
    "\n",
    "    df_combinado = pd.merge(juegos_genero_items, juegos_genero_steam[['game_name', 'release_date']], on='game_name')\n",
    "\n",
    "    playtime_por_año_jugador = df_combinado.groupby(['user_id','release_date','playtime_forever'])['playtime_forever'].sum()\n",
    "\n",
    "    pw = playtime_por_año_jugador.idxmax()\n",
    "\n",
    "    return print(f\"El usuario con más horas jugadas para Género{genre} es {pw[0]} con {pw[2]} horas jugadas en el año {pw[1]}\")"
   ]
  },
  {
   "cell_type": "code",
   "execution_count": 8,
   "metadata": {},
   "outputs": [
    {
     "name": "stdout",
     "output_type": "stream",
     "text": [
      "El usuario con más horas jugadas para Géneroaction es Evilutional con 635295.0 horas jugadas en el año 2012\n"
     ]
    }
   ],
   "source": [
    "UserForGenre('action')"
   ]
  },
  {
   "cell_type": "markdown",
   "metadata": {},
   "source": [
    "Tercera función:"
   ]
  },
  {
   "cell_type": "code",
   "execution_count": 9,
   "metadata": {},
   "outputs": [],
   "source": [
    "def UsersRecommend(año):\n",
    "    reviews_año = df_reviews[df_reviews['posted'] == año]\n",
    "\n",
    "    re_año_recom = reviews_año[(reviews_año['recommend'] == 1) & (reviews_año['sentiment analysis'] >= 1)]\n",
    "\n",
    "    juegos_recomendados = pd.merge(re_año_recom[['id_game','recommend']],df_steam_games[['id_game','game_name']],on='id_game')\n",
    "\n",
    "    games_recom_sum = juegos_recomendados.groupby('game_name')['recommend'].sum()\n",
    "\n",
    "    top_3 = games_recom_sum.nlargest(3).index\n",
    "\n",
    "    return print(f'este es el top 3 juegos mas recomendados de steam: Puesto1: {top_3[0]}, Puesto2: {top_3[1]}, Puesto3: {top_3[2]}')"
   ]
  },
  {
   "cell_type": "code",
   "execution_count": 10,
   "metadata": {},
   "outputs": [
    {
     "name": "stdout",
     "output_type": "stream",
     "text": [
      "este es el top 3 juegos mas recomendados de steam: Puesto1: Counter-Strike: Global Offensive, Puesto2: Team Fortress 2, Puesto3: Garry's Mod\n"
     ]
    }
   ],
   "source": [
    "UsersRecommend(2015)"
   ]
  },
  {
   "cell_type": "markdown",
   "metadata": {},
   "source": [
    "Cuarta función:"
   ]
  },
  {
   "cell_type": "code",
   "execution_count": 11,
   "metadata": {},
   "outputs": [],
   "source": [
    "def UsersNotRecommend(año):\n",
    "    reviews_año = df_reviews[df_reviews['posted'] == año]\n",
    "\n",
    "    re_año_recom = reviews_año[(reviews_año['recommend'] == 0) & (reviews_año['sentiment analysis'] == 0)]\n",
    "\n",
    "    juegos_recomendados = pd.merge(re_año_recom[['id_game','recommend']],df_steam_games[['id_game','game_name']],on='id_game')\n",
    "\n",
    "    juegos_recomendados['recommend'] = juegos_recomendados['recommend'].replace({0:1})\n",
    "\n",
    "    games_recom_sum = juegos_recomendados.groupby('game_name')['recommend'].sum()\n",
    "\n",
    "    top_3 = games_recom_sum.nlargest(3).index\n",
    "\n",
    "    print(f'este es el top 3 juegos menos recomendados de steam: Puesto1: {top_3[0]}, Puesto2: {top_3[1]}, Puesto3: {top_3[2]}')"
   ]
  },
  {
   "cell_type": "code",
   "execution_count": 12,
   "metadata": {},
   "outputs": [
    {
     "name": "stdout",
     "output_type": "stream",
     "text": [
      "este es el top 3 juegos menos recomendados de steam: Puesto1: Call of Duty®: Black Ops II, Puesto2: Red Faction®: Armageddon™, Puesto3: Resident Evil: Operation Raccoon City\n"
     ]
    }
   ],
   "source": [
    "UsersNotRecommend(2012)"
   ]
  },
  {
   "cell_type": "markdown",
   "metadata": {},
   "source": [
    "Quinta función:"
   ]
  },
  {
   "cell_type": "code",
   "execution_count": 13,
   "metadata": {},
   "outputs": [],
   "source": [
    "def sentiment_analysis(año):\n",
    "    año_games = df_steam_games[df_steam_games['release_date'] == año]\n",
    "\n",
    "    año_games_re = pd.merge(año_games[['game_name','id_game']],df_reviews[['id_game','sentiment analysis']],on='id_game')\n",
    "    if año_games_re['sentiment analysis'].value_counts().sum() == 0:\n",
    "        return print(f'El año {año} no tiene reseñas de ninguna clase')\n",
    "    else:\n",
    "        se = año_games_re['sentiment analysis'].value_counts()\n",
    "        return print(f'Las reviews del año {año} son: Positivas: {se[2]}, Neutras:{se[1]}, Negativas: {se[0]}')\n"
   ]
  },
  {
   "cell_type": "code",
   "execution_count": 14,
   "metadata": {},
   "outputs": [
    {
     "name": "stdout",
     "output_type": "stream",
     "text": [
      "Las reviews del año 2015 son: Positivas: 2823, Neutras:812, Negativas: 898\n"
     ]
    }
   ],
   "source": [
    "sentiment_analysis(2015)"
   ]
  },
  {
   "cell_type": "markdown",
   "metadata": {},
   "source": [
    "Sistema de recomendacion:"
   ]
  },
  {
   "cell_type": "markdown",
   "metadata": {},
   "source": [
    "Selecionare las Columnas que usare en mi modelo de ML pero antes:"
   ]
  },
  {
   "cell_type": "markdown",
   "metadata": {},
   "source": [
    "Con el dataframe de games hare un tratamiento especial, traere unas columnas mas y desanidare las columnas que sean lista de str:"
   ]
  },
  {
   "cell_type": "code",
   "execution_count": 15,
   "metadata": {},
   "outputs": [],
   "source": [
    "import json\n",
    "\n",
    "# Lista para almacenar los objetos JSON \n",
    "user_games = []\n",
    "\n",
    "# Abre el archivo JSON y carga su contenido en un diccionario\n",
    "with open('data/output_steam_games.json', 'r', encoding='utf-8') as f:\n",
    "    for line in f.readlines():\n",
    "        try:\n",
    "            json_data = json.loads(line)\n",
    "            user_games.append(json_data)\n",
    "        except json.JSONDecodeError as e:\n",
    "            print(f\"Error al decodificar JSON en línea: {e}\")\n",
    "\n",
    "# Crear el DataFrame anidado\n",
    "df_steam_games = pd.DataFrame(user_games)"
   ]
  },
  {
   "cell_type": "markdown",
   "metadata": {},
   "source": [
    "Eliminare las filas que no sirven"
   ]
  },
  {
   "cell_type": "code",
   "execution_count": 16,
   "metadata": {},
   "outputs": [],
   "source": [
    "df_steam_games.drop(df_steam_games.index[0:88310],inplace=True)"
   ]
  },
  {
   "cell_type": "markdown",
   "metadata": {},
   "source": [
    "Selecciono las columnas que estare usando"
   ]
  },
  {
   "cell_type": "code",
   "execution_count": 17,
   "metadata": {},
   "outputs": [],
   "source": [
    "df_steam_games = df_steam_games[['genres','app_name','release_date','id','price','specs']]"
   ]
  },
  {
   "cell_type": "markdown",
   "metadata": {},
   "source": [
    "Desanidare la columna de genres:"
   ]
  },
  {
   "cell_type": "code",
   "execution_count": 18,
   "metadata": {},
   "outputs": [],
   "source": [
    "games = df_steam_games.explode('genres')"
   ]
  },
  {
   "cell_type": "code",
   "execution_count": 19,
   "metadata": {},
   "outputs": [],
   "source": [
    "games.dropna(subset=['genres'],inplace=True)"
   ]
  },
  {
   "cell_type": "code",
   "execution_count": 20,
   "metadata": {},
   "outputs": [],
   "source": [
    "games.dropna(inplace=True)"
   ]
  },
  {
   "cell_type": "code",
   "execution_count": 21,
   "metadata": {},
   "outputs": [],
   "source": [
    "games.fillna({'genres': 'Unknown'},inplace=True)\n",
    "games.drop_duplicates(subset='id',inplace=True)"
   ]
  },
  {
   "cell_type": "markdown",
   "metadata": {},
   "source": [
    "Hare lo mismo con la columna de specs"
   ]
  },
  {
   "cell_type": "code",
   "execution_count": 22,
   "metadata": {},
   "outputs": [],
   "source": [
    "games = games.explode('specs')"
   ]
  },
  {
   "cell_type": "code",
   "execution_count": 23,
   "metadata": {},
   "outputs": [],
   "source": [
    "games = games.fillna({'specs': 'Unknown'})"
   ]
  },
  {
   "cell_type": "code",
   "execution_count": 24,
   "metadata": {},
   "outputs": [],
   "source": [
    "games.drop_duplicates(subset='id',inplace=True)"
   ]
  },
  {
   "cell_type": "markdown",
   "metadata": {},
   "source": [
    "Normalizare la fecha solo poniendo el año"
   ]
  },
  {
   "cell_type": "code",
   "execution_count": 25,
   "metadata": {},
   "outputs": [],
   "source": [
    "games['release_date']=pd.to_datetime(games['release_date'],errors=\"coerce\").dt.year"
   ]
  },
  {
   "cell_type": "code",
   "execution_count": 26,
   "metadata": {},
   "outputs": [],
   "source": [
    "games.dropna(subset=['release_date'], inplace=True)"
   ]
  },
  {
   "cell_type": "code",
   "execution_count": 27,
   "metadata": {},
   "outputs": [],
   "source": [
    "games['release_date'] = games['release_date'].astype(int).astype(str)"
   ]
  },
  {
   "cell_type": "markdown",
   "metadata": {},
   "source": [
    "Reseteo el index"
   ]
  },
  {
   "cell_type": "code",
   "execution_count": 28,
   "metadata": {},
   "outputs": [],
   "source": [
    "games.reset_index(inplace=True,drop=True)"
   ]
  },
  {
   "cell_type": "markdown",
   "metadata": {},
   "source": [
    "Hare una estandarizacion y una clasificacion de la columna price"
   ]
  },
  {
   "cell_type": "code",
   "execution_count": 29,
   "metadata": {},
   "outputs": [],
   "source": [
    "replace_dict = {\n",
    "    'Free To Play': 0,\n",
    "    'Free to Play': 0,\n",
    "    'Free': 0,\n",
    "    'Free Demo': 0,\n",
    "    'Play for Free!': 0,\n",
    "    'Install Now': 0,\n",
    "    'Play WARMACHINE: Tactics Demo': 0,\n",
    "    'Free Mod': 0,\n",
    "    'Third-party': 0,\n",
    "    'Play Now': 0,\n",
    "    'Free HITMAN™ Holiday Pack': 0,\n",
    "    'Play the Demo': 0,\n",
    "    'Install Theme':0\n",
    "}\n",
    "games['price'].replace(replace_dict, inplace=True)"
   ]
  },
  {
   "cell_type": "markdown",
   "metadata": {},
   "source": [
    "Luego de estandarizar la columna price, comenzaré con la clasificacion."
   ]
  },
  {
   "cell_type": "markdown",
   "metadata": {},
   "source": [
    "Obtengo la mediana de los precios y etiqueto en base a la mediana."
   ]
  },
  {
   "cell_type": "code",
   "execution_count": 30,
   "metadata": {},
   "outputs": [
    {
     "data": {
      "text/plain": [
       "4.99"
      ]
     },
     "execution_count": 30,
     "metadata": {},
     "output_type": "execute_result"
    }
   ],
   "source": [
    "median_price = games['price'].median()\n",
    "median_price"
   ]
  },
  {
   "cell_type": "code",
   "execution_count": 31,
   "metadata": {},
   "outputs": [],
   "source": [
    "def etiquetar_precio(valor):\n",
    "    if valor == 0:\n",
    "        return 'gratis'\n",
    "    elif valor <= 4.99:\n",
    "        return \"barato\"\n",
    "    else:\n",
    "        return \"caro\""
   ]
  },
  {
   "cell_type": "code",
   "execution_count": 32,
   "metadata": {},
   "outputs": [],
   "source": [
    "games['price'] = games['price'].apply(etiquetar_precio)"
   ]
  },
  {
   "cell_type": "markdown",
   "metadata": {},
   "source": [
    "Pasamos la estandarizacion a numeros."
   ]
  },
  {
   "cell_type": "code",
   "execution_count": 33,
   "metadata": {},
   "outputs": [],
   "source": [
    "price = {'gratis':0,'barato':1,'caro':2}"
   ]
  },
  {
   "cell_type": "code",
   "execution_count": 34,
   "metadata": {},
   "outputs": [],
   "source": [
    "games['price'].replace(price,inplace=True)"
   ]
  },
  {
   "cell_type": "markdown",
   "metadata": {},
   "source": [
    "Aqui cambiamos el nombre de la columna id a id_game."
   ]
  },
  {
   "cell_type": "code",
   "execution_count": 35,
   "metadata": {},
   "outputs": [],
   "source": [
    "games.rename({'id':'id_game'},axis=1,inplace=True)"
   ]
  },
  {
   "cell_type": "markdown",
   "metadata": {},
   "source": [
    "Haré una clasificacion numerica a las columnas que estare mostrando para tener un mejor resultado en el modelo de recomendacion."
   ]
  },
  {
   "cell_type": "code",
   "execution_count": 36,
   "metadata": {},
   "outputs": [],
   "source": [
    "from sklearn.preprocessing import LabelEncoder\n",
    "le_genres = LabelEncoder()\n",
    "le_date = LabelEncoder()\n",
    "le_specs = LabelEncoder()"
   ]
  },
  {
   "cell_type": "code",
   "execution_count": 37,
   "metadata": {},
   "outputs": [],
   "source": [
    "games['genres'] = le_genres.fit_transform(games['genres'])\n",
    "games['release_date'] = le_date.fit_transform(games['release_date'])\n",
    "games['specs'] = le_specs.fit_transform(games['specs'])"
   ]
  },
  {
   "cell_type": "markdown",
   "metadata": {},
   "source": [
    "Aqui comenzare con la funcion \"item-item\""
   ]
  },
  {
   "cell_type": "code",
   "execution_count": 100,
   "metadata": {},
   "outputs": [],
   "source": [
    "def item_item(id_game,games):\n",
    "    #aquí copiare el dataframe games para utilizarlo en el modelo ML\n",
    "    games_co = games.copy()\n",
    "\n",
    "    #dropeamos las columnas:\n",
    "    games_co.drop(['app_name','id_game'],axis=1,inplace=True)\n",
    "\n",
    "    # importamos la funcion cosine_similarity, cargamos el resultado en games_coceno y convertimos en dataframe.\n",
    "    from sklearn.metrics.pairwise import cosine_similarity\n",
    "    games_co = cosine_similarity(games_co)\n",
    "    games_co = pd.DataFrame(games_co)\n",
    "\n",
    "    index = games[games['id_game'] == str(id_game)].index[0]\n",
    "    recomend = games_co[index].sort_values(ascending=False).iloc[1:6].index\n",
    "    recomend = games.loc[recomend, ['id_game','app_name']].values\n",
    "\n",
    "    return(f'estos son los juegos recomendados con sus ids y nombres: 1 id:{int(recomend[0][0])} name: {recomend[0][1]}, 2 id:{int(recomend[1][0])} name: {recomend[1][1]}, 3 id:{int(recomend[2][0])} name: {recomend[2][1]}, 4 id:{int(recomend[3][0])} name: {recomend[3][1]}, 5 id:{int(recomend[4][0])} name: {recomend[4][1]}.')"
   ]
  },
  {
   "cell_type": "markdown",
   "metadata": {},
   "source": [
    "Aqui creamos la función \"user-item\""
   ]
  },
  {
   "cell_type": "code",
   "execution_count": 101,
   "metadata": {},
   "outputs": [],
   "source": [
    "def user_item(user,items,games):\n",
    "    # filtramos los usuarios para traer todos los juegos jugados por el.\n",
    "    items = items[items['user_id'] == str(user)]\n",
    "    #traeré el id del juego mas jugado por ese usuario.\n",
    "    max = items['playtime_forever'].idxmax()\n",
    "    id_game = items['id_game'].iloc[max]\n",
    "    #Usaré el id del juego y lo metemos a la función que habia creado antes para encontrar los 5 juegos recomendados\n",
    "    return item_item(id_game,games)"
   ]
  },
  {
   "cell_type": "markdown",
   "metadata": {},
   "source": [
    "importo el archivo games para usarlo en las funciones."
   ]
  },
  {
   "cell_type": "code",
   "execution_count": 103,
   "metadata": {},
   "outputs": [],
   "source": [
    "games.to_csv('games_model.csv',index=False)"
   ]
  }
 ],
 "metadata": {
  "kernelspec": {
   "display_name": "Python 3",
   "language": "python",
   "name": "python3"
  },
  "language_info": {
   "codemirror_mode": {
    "name": "ipython",
    "version": 3
   },
   "file_extension": ".py",
   "mimetype": "text/x-python",
   "name": "python",
   "nbconvert_exporter": "python",
   "pygments_lexer": "ipython3",
   "version": "3.10.11"
  },
  "orig_nbformat": 4
 },
 "nbformat": 4,
 "nbformat_minor": 2
}
