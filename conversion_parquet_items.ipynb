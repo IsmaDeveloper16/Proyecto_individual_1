{
 "cells": [
  {
   "cell_type": "markdown",
   "metadata": {},
   "source": [
    "Convertire en parquet a mi archivo items.csv porque es muy grande para poder subirlo a GitHub"
   ]
  },
  {
   "cell_type": "markdown",
   "metadata": {},
   "source": [
    "Importamos las librerias"
   ]
  },
  {
   "cell_type": "code",
   "execution_count": 6,
   "metadata": {},
   "outputs": [],
   "source": [
    "import pandas as pd\n",
    "import pyarrow as pa\n",
    "import pyarrow.parquet as pq"
   ]
  },
  {
   "cell_type": "code",
   "execution_count": 36,
   "metadata": {},
   "outputs": [],
   "source": [
    "games = pd.read_csv('games_model.csv')"
   ]
  },
  {
   "cell_type": "markdown",
   "metadata": {},
   "source": [
    "Comenzamos con la conversion"
   ]
  },
  {
   "cell_type": "code",
   "execution_count": 8,
   "metadata": {},
   "outputs": [],
   "source": [
    "df = pd.read_csv('items.csv')\n",
    "\n",
    "# Convierte el DataFrame de pandas a una tabla de pyarrow\n",
    "table = pa.Table.from_pandas(df)\n",
    "\n",
    "# Define el nombre de tu archivo Parquet de destino\n",
    "archivo_parquet = 'items_parquet.parquet'\n",
    "\n",
    "# Escribe la tabla en formato Parquet\n",
    "pq.write_table(table, archivo_parquet)"
   ]
  },
  {
   "cell_type": "markdown",
   "metadata": {},
   "source": [
    "Probamos aver como nos quedo"
   ]
  },
  {
   "cell_type": "code",
   "execution_count": 13,
   "metadata": {},
   "outputs": [
    {
     "data": {
      "text/html": [
       "<div>\n",
       "<style scoped>\n",
       "    .dataframe tbody tr th:only-of-type {\n",
       "        vertical-align: middle;\n",
       "    }\n",
       "\n",
       "    .dataframe tbody tr th {\n",
       "        vertical-align: top;\n",
       "    }\n",
       "\n",
       "    .dataframe thead th {\n",
       "        text-align: right;\n",
       "    }\n",
       "</style>\n",
       "<table border=\"1\" class=\"dataframe\">\n",
       "  <thead>\n",
       "    <tr style=\"text-align: right;\">\n",
       "      <th></th>\n",
       "      <th>user_id</th>\n",
       "      <th>id_game</th>\n",
       "      <th>game_name</th>\n",
       "      <th>playtime_forever</th>\n",
       "    </tr>\n",
       "  </thead>\n",
       "  <tbody>\n",
       "    <tr>\n",
       "      <th>0</th>\n",
       "      <td>76561197970982479</td>\n",
       "      <td>10</td>\n",
       "      <td>Counter-Strike</td>\n",
       "      <td>6.0</td>\n",
       "    </tr>\n",
       "    <tr>\n",
       "      <th>1</th>\n",
       "      <td>76561197970982479</td>\n",
       "      <td>30</td>\n",
       "      <td>Day of Defeat</td>\n",
       "      <td>7.0</td>\n",
       "    </tr>\n",
       "    <tr>\n",
       "      <th>2</th>\n",
       "      <td>76561197970982479</td>\n",
       "      <td>300</td>\n",
       "      <td>Day of Defeat: Source</td>\n",
       "      <td>4733.0</td>\n",
       "    </tr>\n",
       "    <tr>\n",
       "      <th>3</th>\n",
       "      <td>76561197970982479</td>\n",
       "      <td>240</td>\n",
       "      <td>Counter-Strike: Source</td>\n",
       "      <td>1853.0</td>\n",
       "    </tr>\n",
       "    <tr>\n",
       "      <th>4</th>\n",
       "      <td>76561197970982479</td>\n",
       "      <td>3830</td>\n",
       "      <td>Psychonauts</td>\n",
       "      <td>333.0</td>\n",
       "    </tr>\n",
       "    <tr>\n",
       "      <th>...</th>\n",
       "      <td>...</td>\n",
       "      <td>...</td>\n",
       "      <td>...</td>\n",
       "      <td>...</td>\n",
       "    </tr>\n",
       "    <tr>\n",
       "      <th>3285241</th>\n",
       "      <td>76561198329548331</td>\n",
       "      <td>304930</td>\n",
       "      <td>Unturned</td>\n",
       "      <td>677.0</td>\n",
       "    </tr>\n",
       "    <tr>\n",
       "      <th>3285242</th>\n",
       "      <td>76561198329548331</td>\n",
       "      <td>227940</td>\n",
       "      <td>Heroes &amp; Generals</td>\n",
       "      <td>43.0</td>\n",
       "    </tr>\n",
       "    <tr>\n",
       "      <th>3285243</th>\n",
       "      <td>76561198329548331</td>\n",
       "      <td>388490</td>\n",
       "      <td>One Way To Die: Steam Edition</td>\n",
       "      <td>3.0</td>\n",
       "    </tr>\n",
       "    <tr>\n",
       "      <th>3285244</th>\n",
       "      <td>76561198329548331</td>\n",
       "      <td>521570</td>\n",
       "      <td>You Have 10 Seconds 2</td>\n",
       "      <td>4.0</td>\n",
       "    </tr>\n",
       "    <tr>\n",
       "      <th>3285245</th>\n",
       "      <td>76561198329548331</td>\n",
       "      <td>519140</td>\n",
       "      <td>Minds Eyes</td>\n",
       "      <td>3.0</td>\n",
       "    </tr>\n",
       "  </tbody>\n",
       "</table>\n",
       "<p>3285246 rows × 4 columns</p>\n",
       "</div>"
      ],
      "text/plain": [
       "                   user_id  id_game                      game_name  \\\n",
       "0        76561197970982479       10                 Counter-Strike   \n",
       "1        76561197970982479       30                  Day of Defeat   \n",
       "2        76561197970982479      300          Day of Defeat: Source   \n",
       "3        76561197970982479      240         Counter-Strike: Source   \n",
       "4        76561197970982479     3830                    Psychonauts   \n",
       "...                    ...      ...                            ...   \n",
       "3285241  76561198329548331   304930                       Unturned   \n",
       "3285242  76561198329548331   227940              Heroes & Generals   \n",
       "3285243  76561198329548331   388490  One Way To Die: Steam Edition   \n",
       "3285244  76561198329548331   521570          You Have 10 Seconds 2   \n",
       "3285245  76561198329548331   519140                     Minds Eyes   \n",
       "\n",
       "         playtime_forever  \n",
       "0                     6.0  \n",
       "1                     7.0  \n",
       "2                  4733.0  \n",
       "3                  1853.0  \n",
       "4                   333.0  \n",
       "...                   ...  \n",
       "3285241             677.0  \n",
       "3285242              43.0  \n",
       "3285243               3.0  \n",
       "3285244               4.0  \n",
       "3285245               3.0  \n",
       "\n",
       "[3285246 rows x 4 columns]"
      ]
     },
     "execution_count": 13,
     "metadata": {},
     "output_type": "execute_result"
    }
   ],
   "source": [
    "# Lee el archivo Parquet en un DataFrame de pandas\n",
    "df_items = pq.read_table('items_parquet.parquet').to_pandas()\n",
    "df_items"
   ]
  }
 ],
 "metadata": {
  "kernelspec": {
   "display_name": "Python 3",
   "language": "python",
   "name": "python3"
  },
  "language_info": {
   "codemirror_mode": {
    "name": "ipython",
    "version": 3
   },
   "file_extension": ".py",
   "mimetype": "text/x-python",
   "name": "python",
   "nbconvert_exporter": "python",
   "pygments_lexer": "ipython3",
   "version": "3.10.11"
  },
  "orig_nbformat": 4
 },
 "nbformat": 4,
 "nbformat_minor": 2
}
